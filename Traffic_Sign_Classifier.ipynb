{
 "cells": [
  {
   "cell_type": "markdown",
   "metadata": {},
   "source": [
    "# Self-Driving Car Engineer Nanodegree\n",
    "\n",
    "## Deep Learning\n",
    "\n",
    "## Project: Build a Traffic Sign Recognition Classifier\n",
    "\n",
    "In this notebook, a template is provided for you to implement your functionality in stages, which is required to successfully complete this project. If additional code is required that cannot be included in the notebook, be sure that the Python code is successfully imported and included in your submission if necessary. \n",
    "\n",
    "> **Note**: Once you have completed all of the code implementations, you need to finalize your work by exporting the iPython Notebook as an HTML document. Before exporting the notebook to html, all of the code cells need to have been run so that reviewers can see the final implementation and output. You can then export the notebook by using the menu above and navigating to  \\n\",\n",
    "    \"**File -> Download as -> HTML (.html)**. Include the finished document along with this notebook as your submission. \n",
    "\n",
    "In addition to implementing code, there is a writeup to complete. The writeup should be completed in a separate file, which can be either a markdown file or a pdf document. There is a [write up template](https://github.com/udacity/CarND-Traffic-Sign-Classifier-Project/blob/master/writeup_template.md) that can be used to guide the writing process. Completing the code template and writeup template will cover all of the [rubric points](https://review.udacity.com/#!/rubrics/481/view) for this project.\n",
    "\n",
    "The [rubric](https://review.udacity.com/#!/rubrics/481/view) contains \"Stand Out Suggestions\" for enhancing the project beyond the minimum requirements. The stand out suggestions are optional. If you decide to pursue the \"stand out suggestions\", you can include the code in this Ipython notebook and also discuss the results in the writeup file.\n",
    "\n",
    "\n",
    ">**Note:** Code and Markdown cells can be executed using the **Shift + Enter** keyboard shortcut. In addition, Markdown cells can be edited by typically double-clicking the cell to enter edit mode."
   ]
  },
  {
   "cell_type": "markdown",
   "metadata": {},
   "source": [
    "---\n",
    "## Step 0: Load The Data"
   ]
  },
  {
   "cell_type": "code",
   "execution_count": 1,
   "metadata": {},
   "outputs": [
    {
     "name": "stdout",
     "output_type": "stream",
     "text": [
      "\n",
      "Image Shape: (32, 32, 3)\n",
      "\n",
      "Training set:   34799 samples\n",
      "Validation set: 4410 samples\n",
      "Test set:       12630 samples\n",
      "Update Image Shape: (32, 32, 3)\n"
     ]
    }
   ],
   "source": [
    "# Load pickled data\n",
    "import pickle\n",
    "\n",
    "# TODO: Fill this in based on where you saved the training and testing data\n",
    "from tensorflow.examples.tutorials.mnist import input_data\n",
    "import numpy as np\n",
    "\n",
    "training_file = \"../data/train.p\"\n",
    "validation_file= \"../data/valid.p\"\n",
    "testing_file = \"../data/test.p\"\n",
    "\n",
    "with open(training_file, mode='rb') as f:\n",
    "    train = pickle.load(f)\n",
    "with open(validation_file, mode='rb') as f:\n",
    "    valid = pickle.load(f)\n",
    "with open(testing_file, mode='rb') as f:\n",
    "    test = pickle.load(f)\n",
    "\n",
    "# JDH use this with \"../data.___.p\"\n",
    "X_train, y_train = train['features'], train['labels']\n",
    "X_valid, y_valid = valid['features'], valid['labels']\n",
    "X_test, y_test = test['features'], test['labels']\n",
    "\n",
    "# JDH MNIST use this with MNIST data\n",
    "#mnist = input_data.read_data_sets (\"MNIST_data/\", reshape=False)\n",
    "#X_train, y_train = mnist.train.images, mnist.train.labels\n",
    "#X_valid, y_valid = mnist.validation.images, mnist.validation.labels\n",
    "#X_test, y_test = mnist.test.images, mnist.test.labels\n",
    "\n",
    "assert(len(X_train) == len(y_train))\n",
    "assert(len(X_valid) == len(y_valid))\n",
    "assert(len(X_test) == len(y_test))\n",
    "\n",
    "print()\n",
    "print(\"Image Shape: {}\".format (X_train[0].shape))\n",
    "print()\n",
    "print(\"Training set:   {} samples\".format(len(X_train)))\n",
    "print(\"Validation set: {} samples\".format(len(X_valid)))\n",
    "print(\"Test set:       {} samples\".format(len(X_test)))\n",
    "\n",
    "# change from 28x28 to 32x32\n",
    "# JDH MNIST this only applies to MNIST\n",
    "#X_train = np.pad(X_train, ((0,0), (2,2), (2,2), (0,0)), 'constant')\n",
    "#X_valid = np.pad(X_valid, ((0,0), (2,2), (2,2), (0,0)), 'constant')\n",
    "#X_test = np.pad(X_test, ((0,0), (2,2), (2,2), (0,0)), 'constant')\n",
    "\n",
    "print(\"Update Image Shape: {}\".format(X_train[0].shape))"
   ]
  },
  {
   "cell_type": "markdown",
   "metadata": {},
   "source": [
    "---\n",
    "\n",
    "## Step 1: Dataset Summary & Exploration\n",
    "\n",
    "The pickled data is a dictionary with 4 key/value pairs:\n",
    "\n",
    "- `'features'` is a 4D array containing raw pixel data of the traffic sign images, (num examples, width, height, channels).\n",
    "- `'labels'` is a 1D array containing the label/class id of the traffic sign. The file `signnames.csv` contains id -> name mappings for each id.\n",
    "- `'sizes'` is a list containing tuples, (width, height) representing the original width and height the image.\n",
    "- `'coords'` is a list containing tuples, (x1, y1, x2, y2) representing coordinates of a bounding box around the sign in the image. **THESE COORDINATES ASSUME THE ORIGINAL IMAGE. THE PICKLED DATA CONTAINS RESIZED VERSIONS (32 by 32) OF THESE IMAGES**\n",
    "\n",
    "Complete the basic data summary below. Use python, numpy and/or pandas methods to calculate the data summary rather than hard coding the results. For example, the [pandas shape method](http://pandas.pydata.org/pandas-docs/stable/generated/pandas.DataFrame.shape.html) might be useful for calculating some of the summary results. "
   ]
  },
  {
   "cell_type": "markdown",
   "metadata": {},
   "source": [
    "### Provide a Basic Summary of the Data Set Using Python, Numpy and/or Pandas"
   ]
  },
  {
   "cell_type": "code",
   "execution_count": 2,
   "metadata": {},
   "outputs": [
    {
     "name": "stdout",
     "output_type": "stream",
     "text": [
      "Number of training examples = 34799\n",
      "Number of validation examples = 4410\n",
      "Number of testing examples = 12630\n",
      "Image data shape = (32, 32, 3)\n",
      "Number of classes = 43\n"
     ]
    }
   ],
   "source": [
    "### Replace each question mark with the appropriate value. \n",
    "### Use python, pandas or numpy methods rather than hard coding the results\n",
    "\n",
    "# TODO: Number of training examples\n",
    "n_train = len(X_train)\n",
    "\n",
    "# TODO: Number of validation examples\n",
    "n_validation = len(X_valid)\n",
    "\n",
    "# TODO: Number of testing examples.\n",
    "n_test = len(X_test)\n",
    "\n",
    "# TODO: What's the shape of an traffic sign image?\n",
    "image_shape = X_train[0].shape\n",
    "\n",
    "# TODO: How many unique classes/labels there are in the dataset.\n",
    "n_classes = len(np.unique(y_train))\n",
    "\n",
    "print(\"Number of training examples =\", n_train)\n",
    "print (\"Number of validation examples =\", n_validation)\n",
    "print(\"Number of testing examples =\", n_test)\n",
    "print(\"Image data shape =\", image_shape)\n",
    "print(\"Number of classes =\", n_classes)"
   ]
  },
  {
   "cell_type": "markdown",
   "metadata": {},
   "source": [
    "### Include an exploratory visualization of the dataset"
   ]
  },
  {
   "cell_type": "markdown",
   "metadata": {},
   "source": [
    "Visualize the German Traffic Signs Dataset using the pickled file(s). This is open ended, suggestions include: plotting traffic sign images, plotting the count of each sign, etc. \n",
    "\n",
    "The [Matplotlib](http://matplotlib.org/) [examples](http://matplotlib.org/examples/index.html) and [gallery](http://matplotlib.org/gallery.html) pages are a great resource for doing visualizations in Python.\n",
    "\n",
    "**NOTE:** It's recommended you start with something simple first. If you wish to do more, come back to it after you've completed the rest of the sections. It can be interesting to look at the distribution of classes in the training, validation and test set. Is the distribution the same? Are there more examples of some classes than others?"
   ]
  },
  {
   "cell_type": "markdown",
   "metadata": {},
   "source": [
    "#### Histograms showing the count of each class"
   ]
  },
  {
   "cell_type": "code",
   "execution_count": 4,
   "metadata": {},
   "outputs": [
    {
     "data": {
      "image/png": "[encoded data removed]",
      "text/plain": [
       "<matplotlib.figure.Figure at 0x7f06db81ecf8>"
      ]
     },
     "metadata": {
      "needs_background": "light"
     },
     "output_type": "display_data"
    }
   ],
   "source": [
    "import matplotlib.pyplot as plt\n",
    "\n",
    "loc = range(n_classes)\n",
    "\n",
    "labels = ['Speed limit (20km/h)',\n",
    "          'Speed limit (30km/h)',\n",
    "          'Speed limit (50km/h)',\n",
    "          'Speed limit (60km/h)',\n",
    "          'Speed limit (70km/h)',\n",
    "          'Speed limit (80km/h)',\n",
    "          'End of speed limit (80km/h)',\n",
    "          'Speed limit (100km/h)',\n",
    "          'Speed limit (120km/h)',\n",
    "          'No passing',\n",
    "          'No passing for vehicles over 3.5 metric tons',\n",
    "          'Right-of-way at the next intersection',\n",
    "          'Priority road',\n",
    "          'Yield',\n",
    "          'Stop',\n",
    "          'No vehicles',\n",
    "          'Vehicles over 3.5 metric tons prohibited',\n",
    "          'No entry',\n",
    "          'General caution',\n",
    "          'Dangerous curve to the left',\n",
    "          'Dangerous curve to the right',\n",
    "          'Double curve',\n",
    "          'Bumpy road',\n",
    "          'Slippery road',\n",
    "          'Road narrows on the right',\n",
    "          'Road work',\n",
    "          'Traffic signals',\n",
    "          'Pedestrians',\n",
    "          'Children crossing',\n",
    "          'Bicycles crossing',\n",
    "          'Beware of ice/snow',\n",
    "          'Wild animals crossing',\n",
    "          'End of all speed and passing limits',\n",
    "          'Turn right ahead',\n",
    "          'Turn left ahead',\n",
    "          'Ahead only',\n",
    "          'Go straight or right',\n",
    "          'Go straight or left',\n",
    "          'Keep right',\n",
    "          'Keep left',\n",
    "          'Roundabout mandatory',\n",
    "          'End of no passing',\n",
    "          'End of no passing by vehicles over 3.5 metric tons'\n",
    "          ]\n",
    "\n",
    "#labels = ['1', '2', '3', '4', '5', '1', '2', '3', '4', '5','1', '2', '3', '4', '5','1', '2', '3', '4', '5','1', '2', '3', '4', '5','1', '2', '3', '4', '5','1', '2', '3', '4', '5','1', '2', '3', '4', '5','1', '2', '3']\n",
    "\n",
    "plt.figure(figsize=(16,6))\n",
    "plt.xticks (loc, labels, rotation='vertical')\n",
    "plt.hist(y_train, label='Train', edgecolor='black', linewidth=0.1, bins=np.arange(n_classes+1)-0.5)\n",
    "plt.hist(y_test, label='Test', edgecolor='black', linewidth=0.1, bins=np.arange(n_classes+1)-0.5)\n",
    "plt.hist(y_valid, label='Validation', edgecolor='black', linewidth=0.1, bins=np.arange(n_classes+1)-0.5)\n",
    "plt.legend(loc='upper right')\n",
    "plt.xlabel('TYPE OF SIGN')\n",
    "plt.ylabel('NUMBER OF SIGNS')\n",
    "plt.show()\n",
    "\n"
   ]
  },
  {
   "cell_type": "code",
   "execution_count": 5,
   "metadata": {},
   "outputs": [
    {
     "name": "stdout",
     "output_type": "stream",
     "text": [
      "4\n"
     ]
    },
    {
     "data": {
      "image/png": "[encoded data removed]",
      "text/plain": [
       "<matplotlib.figure.Figure at 0x7f06db76e588>"
      ]
     },
     "metadata": {
      "needs_background": "light"
     },
     "output_type": "display_data"
    }
   ],
   "source": [
    "### Data exploration visualization code goes here.\n",
    "### Feel free to use as many code cells as needed.\n",
    "import matplotlib.pyplot as plt\n",
    "import random\n",
    "# Visualizations will be shown in the notebook.\n",
    "%matplotlib inline\n",
    "\n",
    "index = random.randint(0, len(X_train))\n",
    "image = X_train[index].squeeze()\n",
    "\n",
    "plt.figure(figsize=(1,1))\n",
    "plt.imshow(image)\n",
    "print(y_train[index])"
   ]
  },
  {
   "cell_type": "markdown",
   "metadata": {},
   "source": [
    "----\n",
    "\n",
    "## Step 2: Design and Test a Model Architecture\n",
    "\n",
    "Design and implement a deep learning model that learns to recognize traffic signs. Train and test your model on the [German Traffic Sign Dataset](http://benchmark.ini.rub.de/?section=gtsrb&subsection=dataset).\n",
    "\n",
    "The LeNet-5 implementation shown in the [classroom](https://classroom.udacity.com/nanodegrees/nd013/parts/fbf77062-5703-404e-b60c-95b78b2f3f9e/modules/6df7ae49-c61c-4bb2-a23e-6527e69209ec/lessons/601ae704-1035-4287-8b11-e2c2716217ad/concepts/d4aca031-508f-4e0b-b493-e7b706120f81) at the end of the CNN lesson is a solid starting point. You'll have to change the number of classes and possibly the preprocessing, but aside from that it's plug and play! \n",
    "\n",
    "With the LeNet-5 solution from the lecture, you should expect a validation set accuracy of about 0.89. To meet specifications, the validation set accuracy will need to be at least 0.93. It is possible to get an even higher accuracy, but 0.93 is the minimum for a successful project submission. \n",
    "\n",
    "There are various aspects to consider when thinking about this problem:\n",
    "\n",
    "- Neural network architecture (is the network over or underfitting?)\n",
    "- Play around preprocessing techniques (normalization, rgb to grayscale, etc)\n",
    "- Number of examples per label (some have more than others).\n",
    "- Generate fake data.\n",
    "\n",
    "Here is an example of a [published baseline model on this problem](http://yann.lecun.com/exdb/publis/pdf/sermanet-ijcnn-11.pdf). It's not required to be familiar with the approach used in the paper but, it's good practice to try to read papers like these."
   ]
  },
  {
   "cell_type": "markdown",
   "metadata": {},
   "source": [
    "### Pre-process the Data Set (normalization, grayscale, etc.)"
   ]
  },
  {
   "cell_type": "markdown",
   "metadata": {},
   "source": [
    "Minimally, the image data should be normalized so that the data has mean zero and equal variance. For image data, `(pixel - 128)/ 128` is a quick way to approximately normalize the data and can be used in this project. \n",
    "\n",
    "Other pre-processing steps are optional. You can try different techniques to see if it improves performance. \n",
    "\n",
    "Use the code cell (or multiple code cells, if necessary) to implement the first step of your project."
   ]
  },
  {
   "cell_type": "code",
   "execution_count": 6,
   "metadata": {},
   "outputs": [],
   "source": [
    "### Preprocess the data here. It is required to normalize the data. Other preprocessing steps could include \n",
    "### converting to grayscale, etc.\n",
    "### Feel free to use as many code cells as needed.\n",
    "from sklearn.utils import shuffle\n",
    "\n",
    "# Notes:\n",
    "# Idea from https://knowledge.udacity.com/questions/149989\n",
    "#X_train -= np.mean(X_train, axis = 0)\n",
    "#X_train /= np.std(X_train, axis = 0)\n",
    "#X_test -= np.mean(X_test, axis = 0)\n",
    "#X_test /= np.std(X_test, axis = 0)\n",
    "#X_valid -= np.mean(X_valid, axis = 0)\n",
    "#X_valid /= np.std(X_valid, axis = 0)\n",
    "\n",
    "# https://knowledge.udacity.com/questions/135287\n",
    "# Need to denormalize if you want to view the image\n",
    "# Keep in mind training vs inference. Inference needs normalizing too.\n",
    "# That's handled here with X_test and X_valid.\n",
    "\n",
    "# https://knowledge.udacity.com/questions/137631\n",
    "#X_train = np.array(X_train)\n",
    "#X_train = (X_train - 128.0) / 128.0\n",
    "#X_test = np.array(X_test)\n",
    "#X_test = (X_test - 128.0) / 128.0\n",
    "#X_valid = np.array(X_valid)\n",
    "#X_valid = (X_valid - 128.0) / 128.0\n",
    "\n",
    "X_train, y_train = shuffle(X_train, y_train)\n",
    "\n",
    "# JDH SUN keep the section below. Commenting out for Writeup only\n",
    "X_train = np.sum(X_train/3, axis=3, keepdims=True)\n",
    "X_train = np.array(X_train)\n",
    "X_train = (X_train - 128.0) / 128.0\n",
    "\n",
    "X_test = np.sum(X_test/3, axis=3, keepdims=True)\n",
    "X_test = np.array(X_test)\n",
    "X_test = (X_test - 128.0) / 128.0\n",
    "\n",
    "X_valid = np.sum(X_valid/3, axis=3, keepdims=True)\n",
    "X_valid = np.array(X_valid)\n",
    "X_valid = (X_valid - 128.0) / 128.0\n",
    "# JDH SUN end"
   ]
  },
  {
   "cell_type": "code",
   "execution_count": 9,
   "metadata": {},
   "outputs": [
    {
     "data": {
      "text/plain": [
       "<matplotlib.image.AxesImage at 0x7f06db70e240>"
      ]
     },
     "execution_count": 9,
     "metadata": {},
     "output_type": "execute_result"
    },
    {
     "data": {
      "image/png": "[encoded data removed]",
      "text/plain": [
       "<matplotlib.figure.Figure at 0x7f06da5f0080>"
      ]
     },
     "metadata": {
      "needs_background": "light"
     },
     "output_type": "display_data"
    }
   ],
   "source": [
    "# Here is a random image after conversion to grayscale\n",
    "# Note: index will refer to a different image than previously because of\n",
    "# the shuffle step above.\n",
    "image = X_train[index].squeeze()\n",
    "plt.figure(figsize=(1,1))\n",
    "plt.imshow(image, cmap='gray')"
   ]
  },
  {
   "cell_type": "markdown",
   "metadata": {},
   "source": [
    "### Model Architecture"
   ]
  },
  {
   "cell_type": "code",
   "execution_count": 10,
   "metadata": {},
   "outputs": [],
   "source": [
    "### Define your architecture here.\n",
    "### Feel free to use as many code cells as needed.\n",
    "import tensorflow as tf\n",
    "from tensorflow.contrib.layers import flatten\n",
    "\n",
    "EPOCHS = 10\n",
    "BATCH_SIZE = 128\n",
    "\n",
    "def LeNet(x, keep_prob): # JDH added keep_prob\n",
    "    # Hyperparameters\n",
    "    mu = 0\n",
    "    sigma = 0.1   # JDH been using 0.1\n",
    "    #training = tf.placeholder(tf.bool) # JDH normalization\n",
    "    #training = 'True' # JDH normalization\n",
    "    # x = tf.layers.batch_normalization(x, training=training)\n",
    "    \n",
    "    # Layer 1: Convolutional. Input=32x32x1. Output=28x28x6.\n",
    "    # JDH normalized to 1 (5,5,1,6) grayscale / (5,5,3,6) RGB\n",
    "    conv1_W = tf.Variable(tf.truncated_normal(shape=(5,5,1,6), mean=mu, stddev=sigma))\n",
    "    conv1_b = tf.Variable(tf.zeros(6))\n",
    "    conv1 = tf.nn.conv2d(x, conv1_W, strides=[1,1,1,1], padding='VALID') + conv1_b\n",
    "    \n",
    "    # Activation\n",
    "    conv1 = tf.layers.batch_normalization(conv1) # JDH normalization\n",
    "    # JDH original 1 conv1 = tf.nn.relu(conv1)\n",
    "    conv1 = tf.nn.tanh(conv1) # JDH performance\n",
    "    \n",
    "    # Pooling. Input=28x28x6. Output=14x14x6\n",
    "    conv1 = tf.nn.max_pool(conv1, ksize=[1,2,2,1], strides=[1,2,2,1], padding='VALID')\n",
    "    \n",
    "    # Layer 2: Convolutional. Output=10x10x16\n",
    "    conv2_W = tf.Variable(tf.truncated_normal(shape=(5,5,6,16), mean=mu, stddev=sigma))\n",
    "    conv2_b = tf.Variable(tf.zeros(16))\n",
    "    conv2 = tf.nn.conv2d(conv1, conv2_W, strides=[1,1,1,1], padding='VALID') + conv2_b\n",
    "    \n",
    "    # Activation\n",
    "    conv2 = tf.layers.batch_normalization(conv2) # JDH normalization\n",
    "    # JDH original 2 conv2 = tf.nn.relu(conv2)\n",
    "    conv2 = tf.nn.tanh(conv2) # JDH performance\n",
    "    \n",
    "    # Pooling. Input=10x10x16. Output=5x5x16.\n",
    "    conv2 = tf.nn.max_pool(conv2, ksize=[1,2,2,1], strides=[1,2,2,1], padding='VALID')\n",
    "    \n",
    "    # Flatten. Input=5x5x16. Output=400 (which is 5x5x16)\n",
    "    fc0 = flatten(conv2)\n",
    "    #fc0 = tf.nn.dropout(fc0, keep_prob=keep_prob) # JDH added\n",
    "\n",
    "    \n",
    "    # JDH layer 2.5\n",
    "    # Layer 3: Fully Connected. Input=400. Output=400.\n",
    "    #fc2_5_W = tf.Variable(tf.truncated_normal(shape=(400, 400), mean=mu, stddev=sigma))\n",
    "    #fc2_5_b = tf.Variable(tf.zeros(400))\n",
    "    #fc2_5 = tf.matmul(fc0, fc2_5_W) + fc2_5_b\n",
    "    \n",
    "    # Activation\n",
    "    #fc2_5 = tf.layers.batch_normalization(fc2_5) # JDH normalization\n",
    "    #fc2_5 = tf.nn.relu(fc2_5)\n",
    "    fc0 = tf.nn.dropout(fc0, keep_prob=keep_prob) # JDH added\n",
    "    # JDH end layer 2.5\n",
    "    \n",
    "\n",
    "    # Layer 3: Fully Connected. Input=400. Output=120.\n",
    "    fc1_W = tf.Variable(tf.truncated_normal(shape=(400, 120), mean=mu, stddev=sigma))\n",
    "    fc1_b = tf.Variable(tf.zeros(120))\n",
    "    fc1 = tf.matmul(fc0, fc1_W) + fc1_b # JDH use fc2_5 if adding layer above\n",
    "    \n",
    "    # Activation\n",
    "    fc1 = tf.layers.batch_normalization(fc1) # JDH normalization\n",
    "    # JDH original 3 fc1 = tf.nn.relu(fc1)\n",
    "    fc1 = tf.nn.tanh(fc1) # JDH performance\n",
    "    fc1 = tf.nn.dropout(fc1, keep_prob=keep_prob) # JDH added\n",
    "    \n",
    "    # Layer 4: Fully Connected. Input=120. Output=84.\n",
    "    fc2_W = tf.Variable(tf.truncated_normal(shape=(120, 84), mean=mu, stddev=sigma))\n",
    "    fc2_b = tf.Variable(tf.zeros(84))\n",
    "    fc2 = tf.matmul(fc1, fc2_W) + fc2_b\n",
    "\n",
    "    # Activation\n",
    "    fc2 = tf.layers.batch_normalization(fc2) # JDH normalization\n",
    "    # JDH original 4 fc2 = tf.nn.relu(fc2)\n",
    "    fc2 = tf.nn.tanh(fc2) # JDH performance\n",
    "    fc2 = tf.nn.dropout(fc2, keep_prob=keep_prob) # JDH added\n",
    "    \n",
    "    # Layer 5: Fully Connected. Input=84. Output=10.\n",
    "    fc3_W = tf.Variable(tf.truncated_normal(shape=(84, 43), mean=mu, stddev=sigma))\n",
    "    fc3_b = tf.Variable(tf.zeros(43))\n",
    "    \n",
    "    logits = tf.matmul(fc2, fc3_W) + fc3_b\n",
    "    \n",
    "    # JDH improve https://knowledge.udacity.com/questions/164159\n",
    "    #logits = tf.nn.dropout(logits, 0.95)\n",
    "\n",
    "    return logits"
   ]
  },
  {
   "cell_type": "markdown",
   "metadata": {},
   "source": [
    "### Train, Validate and Test the Model"
   ]
  },
  {
   "cell_type": "markdown",
   "metadata": {},
   "source": [
    "A validation set can be used to assess how well the model is performing. A low accuracy on the training and validation\n",
    "sets imply underfitting. A high accuracy on the training set but low accuracy on the validation set implies overfitting."
   ]
  },
  {
   "cell_type": "code",
   "execution_count": 11,
   "metadata": {
    "scrolled": false
   },
   "outputs": [
    {
     "name": "stdout",
     "output_type": "stream",
     "text": [
      "Training...\n",
      "\n",
      "EPOCH 1 ...\n",
      "Validation Accuracy = 0.792\n",
      "\n",
      "EPOCH 2 ...\n",
      "Validation Accuracy = 0.885\n",
      "\n",
      "EPOCH 3 ...\n",
      "Validation Accuracy = 0.925\n",
      "\n",
      "EPOCH 4 ...\n",
      "Validation Accuracy = 0.937\n",
      "\n",
      "EPOCH 5 ...\n",
      "Validation Accuracy = 0.937\n",
      "\n",
      "EPOCH 6 ...\n",
      "Validation Accuracy = 0.947\n",
      "\n",
      "EPOCH 7 ...\n",
      "Validation Accuracy = 0.950\n",
      "\n",
      "EPOCH 8 ...\n",
      "Validation Accuracy = 0.946\n",
      "\n",
      "EPOCH 9 ...\n",
      "Validation Accuracy = 0.952\n",
      "\n",
      "EPOCH 10 ...\n",
      "Validation Accuracy = 0.959\n",
      "\n",
      "Model saved\n"
     ]
    }
   ],
   "source": [
    "### Train your model here.\n",
    "### Calculate and report the accuracy on the training and validation set.\n",
    "### Once a final model architecture is selected, \n",
    "### the accuracy on the test set should be calculated and reported as well.\n",
    "### Feel free to use as many code cells as needed.\n",
    "\n",
    "# Features and Labels\n",
    "# JDH grayscale (32, 32, 1) / RGB (32, 32, 3)\n",
    "x = tf.placeholder(tf.float32, (None, 32, 32, 1))\n",
    "# JDH normalized to 1 x = tf.placeholder(tf.float32, (None, 32, 32, 1)) # JDH normalized to 1\n",
    "y = tf.placeholder(tf.int32, (None))\n",
    "one_hot_y = tf.one_hot(y, 43)\n",
    "\n",
    "# Training Pipeline\n",
    "rate = 0.001 # JDH been using 0.001\n",
    "\n",
    "keep_prob = tf.placeholder (tf.float32, (None)) # JDH for dropout\n",
    "\n",
    "logits = LeNet(x, keep_prob) # JDH added keep_prob\n",
    "#cross_entropy = tf.nn.softmax_cross_entropy_with_logits(logits=logits, labels=one_hot_y)\n",
    "cross_entropy = tf.nn.softmax_cross_entropy_with_logits(labels=one_hot_y, logits=logits)\n",
    "loss_operation = tf.reduce_mean(cross_entropy)\n",
    "optimizer = tf.train.AdamOptimizer(learning_rate=rate)\n",
    "training_operation = optimizer.minimize(loss_operation)\n",
    "\n",
    "# Model Evaluation\n",
    "correct_prediction = tf.equal(tf.argmax(logits, 1), tf.argmax(one_hot_y, 1))\n",
    "accuracy_operation = tf.reduce_mean(tf.cast(correct_prediction, tf.float32))\n",
    "\n",
    "def evaluate (X_data, y_data):\n",
    "    num_examples = len(X_data)\n",
    "    total_accuracy = 0\n",
    "    sess = tf.get_default_session()\n",
    "    for offset in range(0, num_examples, BATCH_SIZE):\n",
    "        batch_x, batch_y = X_data[offset:offset+BATCH_SIZE], y_data[offset:offset+BATCH_SIZE]\n",
    "        #print(\"accuracy...\")\n",
    "        accuracy = sess.run(accuracy_operation, feed_dict={x: batch_x, y: batch_y, keep_prob: 1.0})\n",
    "        total_accuracy += (accuracy * len(batch_x))\n",
    "    return total_accuracy / num_examples\n",
    "\n",
    "# Train the Model\n",
    "with tf.Session() as sess:\n",
    "    sess.run(tf.global_variables_initializer())\n",
    "    num_examples = len(X_train)\n",
    "    \n",
    "    print(\"Training...\")\n",
    "    print()\n",
    "    for i in range(EPOCHS):\n",
    "        X_train, y_train = shuffle(X_train, y_train)\n",
    "        for offset in range(0, num_examples, BATCH_SIZE):\n",
    "            end = offset + BATCH_SIZE\n",
    "            batch_x, batch_y = X_train[offset:end], y_train[offset:end]\n",
    "            #print(\"operation...\")\n",
    "            sess.run(training_operation, feed_dict={x: batch_x, y: batch_y, keep_prob: 0.75})\n",
    "\n",
    "        validation_accuracy = evaluate(X_valid, y_valid)\n",
    "        print(\"EPOCH {} ...\".format(i+1))\n",
    "        print(\"Validation Accuracy = {:.3f}\".format(validation_accuracy))\n",
    "        print()\n",
    "        \n",
    "    try:\n",
    "        saver\n",
    "    except NameError:\n",
    "        saver = tf.train.Saver()\n",
    "    saver.save(sess, './lenet')\n",
    "    print (\"Model saved\")\n",
    "    \n",
    "    # JDH maybe this is how to test 'X_test':\n",
    "    # test_accuracy = evaluate (X_test, y_test)\n",
    "    #print(\"EPOCH {} ...\".format(i+1))\n",
    "    #print(\"Test Accuracy = {:.3f}\".format(test_accuracy))\n",
    "    #print()\n",
    "    "
   ]
  },
  {
   "cell_type": "code",
   "execution_count": 12,
   "metadata": {},
   "outputs": [
    {
     "name": "stdout",
     "output_type": "stream",
     "text": [
      "INFO:tensorflow:Restoring parameters from ./lenet\n",
      "Train Images Accuracy = 0.992\n",
      "INFO:tensorflow:Restoring parameters from ./lenet\n",
      "Validation Images Accuracy = 0.959\n",
      "INFO:tensorflow:Restoring parameters from ./lenet\n",
      "Test Images Accuracy = 0.933\n"
     ]
    }
   ],
   "source": [
    "# JDH added to check accuracy - https://knowledge.udacity.com/questions/278054\n",
    "import tensorflow as tf # JDH remove if running full notebook\n",
    "\n",
    "with tf.Session() as sess:\n",
    "    try:\n",
    "        saver\n",
    "    except NameError:\n",
    "        saver = tf.train.Saver()\n",
    "        \n",
    "    sess.run(tf.global_variables_initializer())\n",
    "    saver.restore(sess, './lenet')\n",
    "    train_images_accuracy = evaluate(X_train, y_train)\n",
    "    print(\"Train Images Accuracy = {:.3f}\".format(train_images_accuracy))\n",
    "\n",
    "with tf.Session() as sess:\n",
    "    sess.run(tf.global_variables_initializer())\n",
    "    saver.restore(sess, './lenet')\n",
    "    valid_images_accuracy = evaluate(X_valid, y_valid)\n",
    "    print(\"Validation Images Accuracy = {:.3f}\".format(valid_images_accuracy))\n",
    "\n",
    "with tf.Session() as sess:\n",
    "    sess.run(tf.global_variables_initializer())\n",
    "    saver.restore(sess, './lenet')\n",
    "    test_images_accuracy = evaluate(X_test, y_test)\n",
    "    print(\"Test Images Accuracy = {:.3f}\".format(test_images_accuracy))\n",
    "\n",
    "    "
   ]
  },
  {
   "cell_type": "markdown",
   "metadata": {},
   "source": [
    "---\n",
    "\n",
    "## Step 3: Test a Model on New Images\n",
    "\n",
    "To give yourself more insight into how your model is working, download at least five pictures of German traffic signs from the web and use your model to predict the traffic sign type.\n",
    "\n",
    "You may find `signnames.csv` useful as it contains mappings from the class id (integer) to the actual sign name."
   ]
  },
  {
   "cell_type": "code",
   "execution_count": 14,
   "metadata": {
    "scrolled": false
   },
   "outputs": [
    {
     "name": "stdout",
     "output_type": "stream",
     "text": [
      "./FiveGermanSigns/Example_general_caution.png\n",
      "PNG\n",
      "(92, 98)\n",
      "RGBA\n",
      "uint8\n",
      "(32, 32, 3)\n"
     ]
    },
    {
     "data": {
      "image/png": "[encoded data removed]",
      "text/plain": [
       "<matplotlib.figure.Figure at 0x7f06c3c3b7f0>"
      ]
     },
     "metadata": {
      "needs_background": "light"
     },
     "output_type": "display_data"
    },
    {
     "name": "stdout",
     "output_type": "stream",
     "text": [
      "./FiveGermanSigns/Example_keep_right.png\n",
      "PNG\n",
      "(90, 96)\n",
      "RGBA\n",
      "uint8\n",
      "(32, 32, 3)\n"
     ]
    },
    {
     "data": {
      "image/png": "[encoded data removed]",
      "text/plain": [
       "<matplotlib.figure.Figure at 0x7f06c57ea400>"
      ]
     },
     "metadata": {
      "needs_background": "light"
     },
     "output_type": "display_data"
    },
    {
     "name": "stdout",
     "output_type": "stream",
     "text": [
      "./FiveGermanSigns/Example_speed_20.png\n",
      "PNG\n",
      "(93, 94)\n",
      "RGBA\n",
      "uint8\n",
      "(32, 32, 3)\n"
     ]
    },
    {
     "data": {
      "image/png": "[encoded data removed]",
      "text/plain": [
       "<matplotlib.figure.Figure at 0x7f06c579c278>"
      ]
     },
     "metadata": {
      "needs_background": "light"
     },
     "output_type": "display_data"
    },
    {
     "name": "stdout",
     "output_type": "stream",
     "text": [
      "./FiveGermanSigns/Example_stop.png\n",
      "PNG\n",
      "(94, 98)\n",
      "RGBA\n",
      "uint8\n",
      "(32, 32, 3)\n"
     ]
    },
    {
     "data": {
      "image/png": "[encoded data removed]",
      "text/plain": [
       "<matplotlib.figure.Figure at 0x7f06c5769588>"
      ]
     },
     "metadata": {
      "needs_background": "light"
     },
     "output_type": "display_data"
    },
    {
     "name": "stdout",
     "output_type": "stream",
     "text": [
      "./FiveGermanSigns/Example_yield.png\n",
      "PNG\n",
      "(91, 97)\n",
      "RGBA\n",
      "uint8\n",
      "(32, 32, 3)\n"
     ]
    },
    {
     "data": {
      "image/png": "[encoded data removed]",
      "text/plain": [
       "<matplotlib.figure.Figure at 0x7f06c57274e0>"
      ]
     },
     "metadata": {
      "needs_background": "light"
     },
     "output_type": "display_data"
    }
   ],
   "source": [
    "### Load the images and plot them here.\n",
    "### Feel free to use as many code cells as needed.\n",
    "import matplotlib.pyplot as plt\n",
    "from matplotlib import image\n",
    "import glob\n",
    "import os\n",
    "\n",
    "import PIL\n",
    "from PIL import Image\n",
    "\n",
    "indicator = \"32x32.png\"\n",
    "basewidth = 32\n",
    "hsize = 32\n",
    "color = 3\n",
    "\n",
    "import numpy as np # JDH remove\n",
    "new_signs = []\n",
    "\n",
    "filenames = glob.glob('./FiveGermanSigns/*.png')\n",
    "filenames.sort()\n",
    "\n",
    "for name in filenames: \n",
    "    print(name)\n",
    "    new_name = os.path.splitext(name)[0] + indicator\n",
    "    img = Image.open (name) #\n",
    "    #img = img.convert('RGB')\n",
    "    \n",
    "    print(img.format)\n",
    "    print(img.size)\n",
    "    print(img.mode)\n",
    "    \n",
    "    img = img.resize ((basewidth, hsize), PIL.Image.ANTIALIAS)\n",
    "    img.save (new_name)\n",
    "    \n",
    "    # JDH original img_32_32 = image.imread(new_name)\n",
    "    \n",
    "    # JDH instead of img.convert https://knowledge.udacity.com/questions/212001\n",
    "    import cv2\n",
    "    img_32_32 = cv2.imread(new_name, cv2.IMREAD_UNCHANGED)\n",
    "    #if(src.shape[2] == 4):\n",
    "    img_bgr = img_32_32[:,:,:3]\n",
    "    img_32_32 = cv2.cvtColor(img_bgr, cv2.COLOR_BGR2RGB)\n",
    "    # JDH end\n",
    "    \n",
    "    \n",
    "    new_signs.append(img_32_32)\n",
    "    print(img_32_32.dtype)\n",
    "    print(img_32_32.shape)\n",
    "    # display the array of pixels as an image\n",
    "    plt.figure(figsize=(2,2))\n",
    "    plt.imshow(img_32_32)\n",
    "    plt.show()\n",
    "\n",
    "X_new_signs = np.array(new_signs)\n",
    "\n",
    "# manually determined:\n",
    "# 18 - General caution\n",
    "# 38 - Keep right\n",
    "#  0 - Speed limit (20km/h)\n",
    "# 14 - stop\n",
    "# 13 - Yield\n",
    "y_new_signs = [18, 38, 0, 14, 13]\n",
    "\n",
    "# Pre-process\n",
    "X_new_signs = np.sum(X_new_signs/3, axis=3, keepdims=True)\n",
    "X_new_signs = np.array(X_new_signs)\n",
    "X_new_signs = (X_new_signs - 128.0) / 128.0\n",
    "\n",
    "# JDH now that the 5 German signs have been:\n",
    "# - read from disk\n",
    "# - converted to 32x32x3\n",
    "# - put into a numpy array\n",
    "# We can now:\n",
    "# - use saver to read 'lenet' from disk\n",
    "# - run new predictions on this previously saved model\n"
   ]
  },
  {
   "cell_type": "markdown",
   "metadata": {},
   "source": [
    "### Predict the Sign Type for Each Image"
   ]
  },
  {
   "cell_type": "code",
   "execution_count": 15,
   "metadata": {},
   "outputs": [
    {
     "name": "stdout",
     "output_type": "stream",
     "text": [
      "INFO:tensorflow:Restoring parameters from ./lenet\n",
      "New Sign Accuracy = 1.000\n"
     ]
    }
   ],
   "source": [
    "### Run the predictions here and use the model to output the prediction for each image.\n",
    "### Make sure to pre-process the images with the same pre-processing pipeline used earlier.\n",
    "### Feel free to use as many code cells as needed.\n",
    "\n",
    "# https://knowledge.udacity.com/questions/198519\n",
    "\n",
    "with tf.Session() as sess:\n",
    "    sess.run(tf.global_variables_initializer())\n",
    "    saver.restore(sess, tf.train.latest_checkpoint('.'))\n",
    "    new_signs_accuracy = evaluate(X_new_signs, y_new_signs)\n",
    "    print(\"New Sign Accuracy = {:.3f}\".format(new_signs_accuracy))\n",
    "    softmax = tf.nn.softmax(logits)\n",
    "    pred = tf.nn.top_k(softmax, 5)\n",
    "    res = sess.run(pred, feed_dict={x: X_new_signs, keep_prob: 1.0})\n",
    "    res_scores  = res.values\n",
    "    res_indices  = res.indices\n"
   ]
  },
  {
   "cell_type": "markdown",
   "metadata": {},
   "source": [
    "### Analyze Performance"
   ]
  },
  {
   "cell_type": "code",
   "execution_count": 16,
   "metadata": {},
   "outputs": [
    {
     "name": "stdout",
     "output_type": "stream",
     "text": [
      "INFO:tensorflow:Restoring parameters from ./lenet\n",
      "New Images Accuracy = 1.000\n"
     ]
    }
   ],
   "source": [
    "### Calculate the accuracy for these 5 new images. \n",
    "### For example, if the model predicted 1 out of 5 signs correctly, it's 20% accurate on these new images.\n",
    "\n",
    "with tf.Session() as sess:\n",
    "    sess.run(tf.global_variables_initializer())\n",
    "    saver.restore(sess, './lenet')\n",
    "    new_images_accuracy = evaluate(X_new_signs, y_new_signs)\n",
    "    print(\"New Images Accuracy = {:.3f}\".format(new_images_accuracy))\n"
   ]
  },
  {
   "cell_type": "markdown",
   "metadata": {},
   "source": [
    "### Output Top 5 Softmax Probabilities For Each Image Found on the Web"
   ]
  },
  {
   "cell_type": "markdown",
   "metadata": {},
   "source": [
    "For each of the new images, print out the model's softmax probabilities to show the **certainty** of the model's predictions (limit the output to the top 5 probabilities for each image). [`tf.nn.top_k`](https://www.tensorflow.org/versions/r0.12/api_docs/python/nn.html#top_k) could prove helpful here. \n",
    "\n",
    "The example below demonstrates how tf.nn.top_k can be used to find the top k predictions for each image.\n",
    "\n",
    "`tf.nn.top_k` will return the values and indices (class ids) of the top k predictions. So if k=3, for each sign, it'll return the 3 largest probabilities (out of a possible 43) and the correspoding class ids.\n",
    "\n",
    "Take this numpy array as an example. The values in the array represent predictions. The array contains softmax probabilities for five candidate images with six possible classes. `tf.nn.top_k` is used to choose the three classes with the highest probability:\n",
    "\n",
    "```\n",
    "# (5, 6) array\n",
    "a = np.array([[ 0.24879643,  0.07032244,  0.12641572,  0.34763842,  0.07893497,\n",
    "         0.12789202],\n",
    "       [ 0.28086119,  0.27569815,  0.08594638,  0.0178669 ,  0.18063401,\n",
    "         0.15899337],\n",
    "       [ 0.26076848,  0.23664738,  0.08020603,  0.07001922,  0.1134371 ,\n",
    "         0.23892179],\n",
    "       [ 0.11943333,  0.29198961,  0.02605103,  0.26234032,  0.1351348 ,\n",
    "         0.16505091],\n",
    "       [ 0.09561176,  0.34396535,  0.0643941 ,  0.16240774,  0.24206137,\n",
    "         0.09155967]])\n",
    "```\n",
    "\n",
    "Running it through `sess.run(tf.nn.top_k(tf.constant(a), k=3))` produces:\n",
    "\n",
    "```\n",
    "TopKV2(values=array([[ 0.34763842,  0.24879643,  0.12789202],\n",
    "       [ 0.28086119,  0.27569815,  0.18063401],\n",
    "       [ 0.26076848,  0.23892179,  0.23664738],\n",
    "       [ 0.29198961,  0.26234032,  0.16505091],\n",
    "       [ 0.34396535,  0.24206137,  0.16240774]]), indices=array([[3, 0, 5],\n",
    "       [0, 1, 4],\n",
    "       [0, 5, 1],\n",
    "       [1, 3, 5],\n",
    "       [1, 4, 3]], dtype=int32))\n",
    "```\n",
    "\n",
    "Looking just at the first row we get `[ 0.34763842,  0.24879643,  0.12789202]`, you can confirm these are the 3 largest probabilities in `a`. You'll also notice `[3, 0, 5]` are the corresponding indices."
   ]
  },
  {
   "cell_type": "code",
   "execution_count": 17,
   "metadata": {},
   "outputs": [
    {
     "name": "stdout",
     "output_type": "stream",
     "text": [
      "res_scores:\n",
      "[[  9.96106446e-01   3.46392975e-03   3.28260707e-04   3.51249437e-05\n",
      "    2.50450103e-05]\n",
      " [  9.99777615e-01   1.19747419e-04   6.60542937e-05   4.80487097e-06\n",
      "    4.58524664e-06]\n",
      " [  9.96369362e-01   2.75822752e-03   4.90124163e-04   2.08760044e-04\n",
      "    8.14958912e-05]\n",
      " [  9.99743044e-01   1.00175952e-04   4.31542649e-05   3.45222616e-05\n",
      "    2.53506078e-05]\n",
      " [  9.99923348e-01   2.78647512e-05   1.70430321e-05   9.97410189e-06\n",
      "    6.65062544e-06]]\n",
      "res_indices:\n",
      "[[18 26 27 24 40]\n",
      " [38 34 36  3 13]\n",
      " [ 0  1  8  4 40]\n",
      " [14 17 15 38  1]\n",
      " [13 34 35 22 15]]\n"
     ]
    }
   ],
   "source": [
    "### Print out the top five softmax probabilities for the predictions on the German traffic sign images found on the web. \n",
    "### Feel free to use as many code cells as needed.\n",
    "print (\"res_scores:\\n{}\".format(res_scores))\n",
    "print (\"res_indices:\\n{}\".format(res_indices))"
   ]
  },
  {
   "cell_type": "markdown",
   "metadata": {},
   "source": [
    "### Load and Output the Images"
   ]
  },
  {
   "cell_type": "code",
   "execution_count": 18,
   "metadata": {},
   "outputs": [
    {
     "name": "stdout",
     "output_type": "stream",
     "text": [
      "label: 18\n"
     ]
    },
    {
     "data": {
      "image/png": "[encoded data removed]",
      "text/plain": [
       "<matplotlib.figure.Figure at 0x7f06db795d30>"
      ]
     },
     "metadata": {
      "needs_background": "light"
     },
     "output_type": "display_data"
    },
    {
     "name": "stdout",
     "output_type": "stream",
     "text": [
      "label: 38\n"
     ]
    },
    {
     "data": {
      "image/png": "[encoded data removed]",
      "text/plain": [
       "<matplotlib.figure.Figure at 0x7f06c56cdb00>"
      ]
     },
     "metadata": {
      "needs_background": "light"
     },
     "output_type": "display_data"
    },
    {
     "name": "stdout",
     "output_type": "stream",
     "text": [
      "label: 0\n"
     ]
    },
    {
     "data": {
      "image/png": "[encoded data removed]",
      "text/plain": [
       "<matplotlib.figure.Figure at 0x7f06c5623780>"
      ]
     },
     "metadata": {
      "needs_background": "light"
     },
     "output_type": "display_data"
    },
    {
     "name": "stdout",
     "output_type": "stream",
     "text": [
      "label: 14\n"
     ]
    },
    {
     "data": {
      "image/png": "[encoded data removed]",
      "text/plain": [
       "<matplotlib.figure.Figure at 0x7f06c55dcac8>"
      ]
     },
     "metadata": {
      "needs_background": "light"
     },
     "output_type": "display_data"
    },
    {
     "name": "stdout",
     "output_type": "stream",
     "text": [
      "label: 13\n"
     ]
    },
    {
     "data": {
      "image/png": "[encoded data removed]",
      "text/plain": [
       "<matplotlib.figure.Figure at 0x7f06c55b2748>"
      ]
     },
     "metadata": {
      "needs_background": "light"
     },
     "output_type": "display_data"
    }
   ],
   "source": [
    "for i in range(len(new_signs)):\n",
    "    #sunday = new_signs[i].squeeze()\n",
    "    image = X_new_signs[i].squeeze()\n",
    "    print (\"label: {}\".format(y_new_signs[i]))\n",
    "    plt.figure(figsize=(1,1))\n",
    "    plt.imshow(image, cmap='gray')\n",
    "    plt.show()\n"
   ]
  },
  {
   "cell_type": "markdown",
   "metadata": {},
   "source": [
    "### Project Writeup\n",
    "\n",
    "Once you have completed the code implementation, document your results in a project writeup using this [template](https://github.com/udacity/CarND-Traffic-Sign-Classifier-Project/blob/master/writeup_template.md) as a guide. The writeup can be in a markdown or pdf file. "
   ]
  },
  {
   "cell_type": "markdown",
   "metadata": {},
   "source": [
    "> **Note**: Once you have completed all of the code implementations and successfully answered each question above, you may finalize your work by exporting the iPython Notebook as an HTML document. You can do this by using the menu above and navigating to  \\n\",\n",
    "    \"**File -> Download as -> HTML (.html)**. Include the finished document along with this notebook as your submission."
   ]
  },
  {
   "cell_type": "markdown",
   "metadata": {},
   "source": [
    "---\n",
    "\n",
    "## Step 4 (Optional): Visualize the Neural Network's State with Test Images\n",
    "\n",
    " This Section is not required to complete but acts as an additional excersise for understaning the output of a neural network's weights. While neural networks can be a great learning device they are often referred to as a black box. We can understand what the weights of a neural network look like better by plotting their feature maps. After successfully training your neural network you can see what it's feature maps look like by plotting the output of the network's weight layers in response to a test stimuli image. From these plotted feature maps, it's possible to see what characteristics of an image the network finds interesting. For a sign, maybe the inner network feature maps react with high activation to the sign's boundary outline or to the contrast in the sign's painted symbol.\n",
    "\n",
    " Provided for you below is the function code that allows you to get the visualization output of any tensorflow weight layer you want. The inputs to the function should be a stimuli image, one used during training or a new one you provided, and then the tensorflow variable name that represents the layer's state during the training process, for instance if you wanted to see what the [LeNet lab's](https://classroom.udacity.com/nanodegrees/nd013/parts/fbf77062-5703-404e-b60c-95b78b2f3f9e/modules/6df7ae49-c61c-4bb2-a23e-6527e69209ec/lessons/601ae704-1035-4287-8b11-e2c2716217ad/concepts/d4aca031-508f-4e0b-b493-e7b706120f81) feature maps looked like for it's second convolutional layer you could enter conv2 as the tf_activation variable.\n",
    "\n",
    "For an example of what feature map outputs look like, check out NVIDIA's results in their paper [End-to-End Deep Learning for Self-Driving Cars](https://devblogs.nvidia.com/parallelforall/deep-learning-self-driving-cars/) in the section Visualization of internal CNN State. NVIDIA was able to show that their network's inner weights had high activations to road boundary lines by comparing feature maps from an image with a clear path to one without. Try experimenting with a similar test to show that your trained network's weights are looking for interesting features, whether it's looking at differences in feature maps from images with or without a sign, or even what feature maps look like in a trained network vs a completely untrained one on the same sign image.\n",
    "\n",
    "<figure>\n",
    " <img src=\"visualize_cnn.png\" width=\"380\" alt=\"Combined Image\" />\n",
    " <figcaption>\n",
    " <p></p> \n",
    " <p style=\"text-align: center;\"> Your output should look something like this (above)</p> \n",
    " </figcaption>\n",
    "</figure>\n",
    " <p></p> \n"
   ]
  },
  {
   "cell_type": "code",
   "execution_count": null,
   "metadata": {},
   "outputs": [],
   "source": [
    "### Visualize your network's feature maps here.\n",
    "### Feel free to use as many code cells as needed.\n",
    "\n",
    "# image_input: the test image being fed into the network to produce the feature maps\n",
    "# tf_activation: should be a tf variable name used during your training procedure that represents the calculated state of a specific weight layer\n",
    "# activation_min/max: can be used to view the activation contrast in more detail, by default matplot sets min and max to the actual min and max values of the output\n",
    "# plt_num: used to plot out multiple different weight feature map sets on the same block, just extend the plt number for each new feature map entry\n",
    "\n",
    "def outputFeatureMap(image_input, tf_activation, activation_min=-1, activation_max=-1 ,plt_num=1):\n",
    "    # Here make sure to preprocess your image_input in a way your network expects\n",
    "    # with size, normalization, ect if needed\n",
    "    # image_input =\n",
    "    # Note: x should be the same name as your network's tensorflow data placeholder variable\n",
    "    # If you get an error tf_activation is not defined it may be having trouble accessing the variable from inside a function\n",
    "    activation = tf_activation.eval(session=sess,feed_dict={x : image_input})\n",
    "    featuremaps = activation.shape[3]\n",
    "    plt.figure(plt_num, figsize=(15,15))\n",
    "    for featuremap in range(featuremaps):\n",
    "        plt.subplot(6,8, featuremap+1) # sets the number of feature maps to show on each row and column\n",
    "        plt.title('FeatureMap ' + str(featuremap)) # displays the feature map number\n",
    "        if activation_min != -1 & activation_max != -1:\n",
    "            plt.imshow(activation[0,:,:, featuremap], interpolation=\"nearest\", vmin =activation_min, vmax=activation_max, cmap=\"gray\")\n",
    "        elif activation_max != -1:\n",
    "            plt.imshow(activation[0,:,:, featuremap], interpolation=\"nearest\", vmax=activation_max, cmap=\"gray\")\n",
    "        elif activation_min !=-1:\n",
    "            plt.imshow(activation[0,:,:, featuremap], interpolation=\"nearest\", vmin=activation_min, cmap=\"gray\")\n",
    "        else:\n",
    "            plt.imshow(activation[0,:,:, featuremap], interpolation=\"nearest\", cmap=\"gray\")"
   ]
  }
 ],
 "metadata": {
  "anaconda-cloud": {},
  "kernelspec": {
   "display_name": "Python 3",
   "language": "python",
   "name": "python3"
  },
  "language_info": {
   "codemirror_mode": {
    "name": "ipython",
    "version": 3
   },
   "file_extension": ".py",
   "mimetype": "text/x-python",
   "name": "python",
   "nbconvert_exporter": "python",
   "pygments_lexer": "ipython3",
   "version": "3.6.3"
  }
 },
 "nbformat": 4,
 "nbformat_minor": 1
}
